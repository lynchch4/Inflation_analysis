{
 "cells": [
  {
   "cell_type": "code",
   "execution_count": 1,
   "id": "9208e214",
   "metadata": {},
   "outputs": [],
   "source": [
    "# importing module\n",
    "import pandas as pd\n",
    "import numpy as np\n",
    "import matplotlib.pyplot as plt"
   ]
  },
  {
   "cell_type": "code",
   "execution_count": 2,
   "id": "98faf74c",
   "metadata": {
    "scrolled": true
   },
   "outputs": [],
   "source": [
    "#create inflation dataframe\n",
    "csv_inflation_df = pd.read_csv(\"Inflation_Worldwide/Inflation-datahcpi_q_t.csv\", encoding='latin-1')\n",
    "\n",
    "if 'Country' in csv_inflation_df:\n",
    "    csv_inflation_df['Country Name'] = csv_inflation_df['Country']\n",
    "    csv_inflation_df = csv_inflation_df.drop(['Country'], axis=1)\n",
    "if 'Data source' in csv_inflation_df:\n",
    "    csv_inflation_df = csv_inflation_df.drop(['Data source'], axis=1)\n",
    "if 'Base date' in csv_inflation_df:\n",
    "    csv_inflation_df = csv_inflation_df.drop(['Base date'], axis=1)\n",
    "if 'Note' in csv_inflation_df:\n",
    "    csv_inflation_df = csv_inflation_df.drop(['Note'], axis=1)\n",
    "\n",
    "csv_inflation_df = csv_inflation_df.loc[:, ~csv_inflation_df.columns.str.contains('^Unnamed')]\n",
    "    \n",
    "inflation_df = csv_inflation_df.drop(csv_inflation_df[csv_inflation_df.index > len(csv_inflation_df['Country Name']\\\n",
    ".dropna(axis=0))-1].index).dropna(axis=0, how='any').drop(['Indicator Type', 'IMF Country Code', 'Series Name'], axis=1)\n",
    "\n",
    "inflation_df.columns = inflation_df.columns.str.replace(r'(\\d)$','',regex=True)\n",
    "\n",
    "tran_inflation_df = inflation_df.drop(['Country Code'], axis=1).set_index('Country Name').transpose()\n",
    "\n",
    "tran_inflation_df = tran_inflation_df.groupby(level=0).mean()"
   ]
  },
  {
   "cell_type": "code",
   "execution_count": 3,
   "id": "363f2811",
   "metadata": {},
   "outputs": [],
   "source": [
    "#create food price index dataframe\n",
    "csv_food_price_df = pd.read_csv(\"Inflation_Worldwide/Food_price_indices_data_jun889.csv\")\n",
    "\n",
    "csv_food_price_df.columns = csv_food_price_df.iloc[1]\n",
    "\n",
    "food_price_df = csv_food_price_df.drop(index=0).drop(index=1).drop(index=2)\n",
    "\n",
    "food_price_df = food_price_df.dropna(axis=1, how='any')\n",
    "\n",
    "food_price_df['Date'] = food_price_df['Date'].replace(r'-(\\d)(\\d)$','',regex=True)\n",
    "\n",
    "#change data types\n",
    "float_col_list = [col for col in food_price_df.columns if col!='Date']\n",
    "\n",
    "for col in float_col_list: \n",
    "    food_price_df[col] = food_price_df[col].astype('float')\n",
    "\n",
    "#Set index to 1990\n",
    "index_list = ['Food Price Index', 'Meat', 'Dairy', 'Cereals', 'Oils', 'Sugar']\n",
    "\n",
    "for index in index_list: \n",
    "    food_price_df[index] = (food_price_df[index]/food_price_df[index][3]-1)*100\n",
    "\n",
    "food_price_df = food_price_df.groupby(\"Date\").mean()"
   ]
  },
  {
   "cell_type": "code",
   "execution_count": 4,
   "id": "81726bd9",
   "metadata": {},
   "outputs": [
    {
     "data": {
      "text/plain": [
       "['Argentina',\n",
       " 'Australia',\n",
       " 'Austria',\n",
       " 'Belgium',\n",
       " 'Burkina Faso',\n",
       " 'Bahrain',\n",
       " 'Bolivia',\n",
       " 'Canada',\n",
       " 'Switzerland',\n",
       " 'Chile',\n",
       " \"Côte d'Ivoire\",\n",
       " 'Cameroon',\n",
       " 'Colombia',\n",
       " 'Costa Rica',\n",
       " 'Germany',\n",
       " 'Denmark',\n",
       " 'Dominican Republic',\n",
       " 'Ecuador',\n",
       " 'Egypt, Arab Rep.',\n",
       " 'Spain',\n",
       " 'Finland',\n",
       " 'France',\n",
       " 'United Kingdom',\n",
       " 'Ghana',\n",
       " 'Greece',\n",
       " 'Guatemala',\n",
       " 'Honduras',\n",
       " 'Hungary',\n",
       " 'Indonesia',\n",
       " 'India',\n",
       " 'Iran, Islamic Rep.',\n",
       " 'Israel',\n",
       " 'Italy',\n",
       " 'Jamaica',\n",
       " 'Japan',\n",
       " 'Kenya',\n",
       " 'Korea, Rep.',\n",
       " 'Kuwait',\n",
       " 'Sri Lanka',\n",
       " 'Lesotho',\n",
       " 'Luxembourg',\n",
       " 'Morocco',\n",
       " 'Mexico',\n",
       " 'Myanmar',\n",
       " 'Mauritius',\n",
       " 'Malaysia',\n",
       " 'Niger',\n",
       " 'Nigeria',\n",
       " 'Netherlands',\n",
       " 'Norway',\n",
       " 'New Zealand',\n",
       " 'Pakistan',\n",
       " 'Panama',\n",
       " 'Peru',\n",
       " 'Philippines',\n",
       " 'Papua New Guinea',\n",
       " 'Portugal',\n",
       " 'Paraguay',\n",
       " 'Saudi Arabia',\n",
       " 'Sudan',\n",
       " 'Senegal',\n",
       " 'Singapore',\n",
       " 'El Salvador',\n",
       " 'Suriname',\n",
       " 'Sweden',\n",
       " 'Togo',\n",
       " 'Thailand',\n",
       " 'Trinidad and Tobago',\n",
       " 'Tunisia',\n",
       " 'Turkey',\n",
       " 'Taiwan, China',\n",
       " 'Tanzania',\n",
       " 'Uruguay',\n",
       " 'United States',\n",
       " 'Venezuela, RB',\n",
       " 'South Africa']"
      ]
     },
     "execution_count": 4,
     "metadata": {},
     "output_type": "execute_result"
    }
   ],
   "source": [
    "#Merge Dataframes\n",
    "inf_food_df = pd.merge(tran_inflation_df, food_price_df, left_index=True, right_index=True)\n",
    "\n",
    "countries_list = inf_food_df.columns[0:len(inf_food_df.columns)-len(index_list)].values.tolist()\n",
    "countries_list"
   ]
  },
  {
   "cell_type": "code",
   "execution_count": 5,
   "id": "7189a0c1",
   "metadata": {},
   "outputs": [
    {
     "name": "stdout",
     "output_type": "stream",
     "text": [
      "Country: United States\n"
     ]
    },
    {
     "data": {
      "text/html": [
       "<div>\n",
       "<style scoped>\n",
       "    .dataframe tbody tr th:only-of-type {\n",
       "        vertical-align: middle;\n",
       "    }\n",
       "\n",
       "    .dataframe tbody tr th {\n",
       "        vertical-align: top;\n",
       "    }\n",
       "\n",
       "    .dataframe thead th {\n",
       "        text-align: right;\n",
       "    }\n",
       "</style>\n",
       "<table border=\"1\" class=\"dataframe\">\n",
       "  <thead>\n",
       "    <tr style=\"text-align: right;\">\n",
       "      <th></th>\n",
       "      <th>Inflation</th>\n",
       "      <th>Food Price Index</th>\n",
       "    </tr>\n",
       "  </thead>\n",
       "  <tbody>\n",
       "    <tr>\n",
       "      <th>1990</th>\n",
       "      <td>5.385000</td>\n",
       "      <td>-1.690068</td>\n",
       "    </tr>\n",
       "    <tr>\n",
       "      <th>1991</th>\n",
       "      <td>9.866497</td>\n",
       "      <td>-3.185127</td>\n",
       "    </tr>\n",
       "    <tr>\n",
       "      <th>1992</th>\n",
       "      <td>13.195452</td>\n",
       "      <td>-0.273011</td>\n",
       "    </tr>\n",
       "    <tr>\n",
       "      <th>1993</th>\n",
       "      <td>16.534718</td>\n",
       "      <td>-3.380135</td>\n",
       "    </tr>\n",
       "    <tr>\n",
       "      <th>1994</th>\n",
       "      <td>19.579187</td>\n",
       "      <td>4.420177</td>\n",
       "    </tr>\n",
       "  </tbody>\n",
       "</table>\n",
       "</div>"
      ],
      "text/plain": [
       "      Inflation  Food Price Index\n",
       "1990   5.385000         -1.690068\n",
       "1991   9.866497         -3.185127\n",
       "1992  13.195452         -0.273011\n",
       "1993  16.534718         -3.380135\n",
       "1994  19.579187          4.420177"
      ]
     },
     "execution_count": 5,
     "metadata": {},
     "output_type": "execute_result"
    }
   ],
   "source": [
    "country = input(\"Country: \")\n",
    "\n",
    "#Cumulative inflation column added\n",
    "inf_food_df[\"Index\"] = (inf_food_df[country]/inf_food_df[country]['1990']-1)*100\n",
    "\n",
    "inf_food_df[\"Inflation\"] = (((inf_food_df[country]/100+1).cumprod())-1)*100\n",
    "\n",
    "inf_food_df.loc[:,['Inflation', 'Food Price Index']].head()"
   ]
  },
  {
   "cell_type": "code",
   "execution_count": 6,
   "id": "3904f74e",
   "metadata": {},
   "outputs": [
    {
     "data": {
      "image/png": "[encoded data removed]",
      "text/plain": [
       "<Figure size 432x288 with 1 Axes>"
      ]
     },
     "metadata": {
      "needs_background": "light"
     },
     "output_type": "display_data"
    }
   ],
   "source": [
    "plt.plot(inf_food_df.index, inf_food_df['Inflation'])\n",
    "plt.plot(inf_food_df.index, inf_food_df['Food Price Index'])\n",
    "\n",
    "plt.title(f'{country} Inflation vs Global Food Price Index')\n",
    "plt.xlabel(\"Year\")\n",
    "plt.ylabel(\"Percentage change from 1990\")\n",
    "plt.legend([\"Inflation\", \"Food Price Index\"])\n",
    "xticks=inf_food_df.index"
   ]
  },
  {
   "cell_type": "code",
   "execution_count": null,
   "id": "d08affbb",
   "metadata": {},
   "outputs": [],
   "source": []
  }
 ],
 "metadata": {
  "kernelspec": {
   "display_name": "PythonData",
   "language": "python",
   "name": "pythondata"
  },
  "language_info": {
   "codemirror_mode": {
    "name": "ipython",
    "version": 3
   },
   "file_extension": ".py",
   "mimetype": "text/x-python",
   "name": "python",
   "nbconvert_exporter": "python",
   "pygments_lexer": "ipython3",
   "version": "3.7.7"
  }
 },
 "nbformat": 4,
 "nbformat_minor": 5
}
